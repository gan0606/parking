{
 "cells": [
  {
   "cell_type": "markdown",
   "metadata": {},
   "source": [
    "## 駐車場が混んでいるか空いているかを物体検出で確認"
   ]
  },
  {
   "cell_type": "code",
   "execution_count": 1,
   "metadata": {},
   "outputs": [],
   "source": [
    "# ライブラリのimport\n",
    "from ultralytics import YOLO\n",
    "from IPython.display import Image"
   ]
  },
  {
   "cell_type": "code",
   "execution_count": 2,
   "metadata": {},
   "outputs": [
    {
     "name": "stdout",
     "output_type": "stream",
     "text": [
      "True\n"
     ]
    }
   ],
   "source": [
    "# gpuの確認\n",
    "import torch\n",
    "print(torch.cuda.is_available())"
   ]
  },
  {
   "cell_type": "markdown",
   "metadata": {},
   "source": [
    "## data.yamlファイルに訓練・検証・テストのimages_dirのpathを書く"
   ]
  },
  {
   "cell_type": "markdown",
   "metadata": {},
   "source": [
    "## 学習"
   ]
  },
  {
   "cell_type": "code",
   "execution_count": 3,
   "metadata": {},
   "outputs": [
    {
     "name": "stdout",
     "output_type": "stream",
     "text": [
      "^C\n"
     ]
    }
   ],
   "source": [
    "!yolo task=detect mode=train model=yolov8x.pt data=C:/Users/yuuki/Kaggle/object_detection_try/parking/data/data.yaml epochs=10 imgsz=640"
   ]
  },
  {
   "cell_type": "markdown",
   "metadata": {},
   "source": [
    "## 検証結果の確認"
   ]
  },
  {
   "cell_type": "code",
   "execution_count": null,
   "metadata": {},
   "outputs": [],
   "source": [
    "## 混同行列\n",
    "Image(\"runs/detect/train/confusion_matrix.png\")"
   ]
  },
  {
   "cell_type": "markdown",
   "metadata": {},
   "source": [
    "## 正解と予測の比較"
   ]
  },
  {
   "cell_type": "code",
   "execution_count": null,
   "metadata": {},
   "outputs": [],
   "source": [
    "# 正解\n",
    "Image(\"runs/detect/train/val_batch0_labels.jpg\")"
   ]
  },
  {
   "cell_type": "code",
   "execution_count": null,
   "metadata": {},
   "outputs": [],
   "source": [
    "# 予測結果\n",
    "Image(\"runs/detect/train/val_batch0_pred.jpg\")"
   ]
  },
  {
   "cell_type": "markdown",
   "metadata": {},
   "source": [
    "## テストデータで推論"
   ]
  },
  {
   "cell_type": "code",
   "execution_count": null,
   "metadata": {},
   "outputs": [],
   "source": [
    "!yolo detect val model=C:/Users/yuuki/Kaggle/object_detection_try/parking/runs/detect/train/weights/best.pt data=C:/Users/yuuki/Kaggle/object_detection_try/parking/data/data.yaml split=test"
   ]
  },
  {
   "cell_type": "code",
   "execution_count": null,
   "metadata": {},
   "outputs": [],
   "source": [
    "# テストデータの混同行列\n",
    "Image(\"runs/detect/val/confusion_matrix.png\")"
   ]
  },
  {
   "cell_type": "markdown",
   "metadata": {},
   "source": [
    "## テストデータの正解と予測の表示"
   ]
  },
  {
   "cell_type": "code",
   "execution_count": null,
   "metadata": {},
   "outputs": [],
   "source": [
    "# 正解\n",
    "Image(\"runs/detect/val/val_batch1_labels.jpg\")"
   ]
  },
  {
   "cell_type": "code",
   "execution_count": null,
   "metadata": {},
   "outputs": [],
   "source": [
    "# 予測\n",
    "Image(\"runs/detect/val/val_batch1_pred.jpg\")"
   ]
  },
  {
   "cell_type": "markdown",
   "metadata": {},
   "source": [
    "## ベストなモデルの保存"
   ]
  },
  {
   "cell_type": "code",
   "execution_count": 4,
   "metadata": {},
   "outputs": [
    {
     "name": "stdout",
     "output_type": "stream",
     "text": [
      "Ultralytics YOLOv8.2.2 🚀 Python-3.10.14 torch-2.2.2+cu118 CPU (13th Gen Intel Core(TM) i7-13700HX)\n",
      "Model summary (fused): 268 layers, 68125494 parameters, 0 gradients, 257.4 GFLOPs\n",
      "\n",
      "\u001b[34m\u001b[1mPyTorch:\u001b[0m starting from 'C:\\Users\\yuuki\\Kaggle\\object_detection_try\\parking\\runs\\detect\\train\\weights\\best.pt' with input shape (1, 3, 640, 640) BCHW and output shape(s) (1, 6, 8400) (390.7 MB)\n",
      "\n",
      "\u001b[34m\u001b[1mONNX:\u001b[0m starting export with onnx 1.16.0 opset 17...\n",
      "\u001b[34m\u001b[1mONNX:\u001b[0m export success ✅ 4.1s, saved as 'C:\\Users\\yuuki\\Kaggle\\object_detection_try\\parking\\runs\\detect\\train\\weights\\best.onnx' (260.1 MB)\n",
      "\n",
      "Export complete (9.6s)\n",
      "Results saved to \u001b[1mC:\\Users\\yuuki\\Kaggle\\object_detection_try\\parking\\runs\\detect\\train\\weights\u001b[0m\n",
      "Predict:         yolo predict task=detect model=C:\\Users\\yuuki\\Kaggle\\object_detection_try\\parking\\runs\\detect\\train\\weights\\best.onnx imgsz=640  \n",
      "Validate:        yolo val task=detect model=C:\\Users\\yuuki\\Kaggle\\object_detection_try\\parking\\runs\\detect\\train\\weights\\best.onnx imgsz=640 data=C:/Users/yuuki/Kaggle/object_detection_try/parking/data/data.yaml  \n",
      "Visualize:       https://netron.app\n",
      "💡 Learn more at https://docs.ultralytics.com/modes/export\n"
     ]
    }
   ],
   "source": [
    "!yolo export model=C:/Users/yuuki/Kaggle/object_detection_try/parking/runs/detect/train/weights/best.pt format=onnx"
   ]
  },
  {
   "cell_type": "code",
   "execution_count": null,
   "metadata": {},
   "outputs": [],
   "source": []
  },
  {
   "cell_type": "code",
   "execution_count": null,
   "metadata": {},
   "outputs": [],
   "source": []
  },
  {
   "cell_type": "code",
   "execution_count": null,
   "metadata": {},
   "outputs": [],
   "source": []
  }
 ],
 "metadata": {
  "kernelspec": {
   "display_name": "py_310_ultradynatics",
   "language": "python",
   "name": "python3"
  },
  "language_info": {
   "codemirror_mode": {
    "name": "ipython",
    "version": 3
   },
   "file_extension": ".py",
   "mimetype": "text/x-python",
   "name": "python",
   "nbconvert_exporter": "python",
   "pygments_lexer": "ipython3",
   "version": "3.10.14"
  }
 },
 "nbformat": 4,
 "nbformat_minor": 2
}
