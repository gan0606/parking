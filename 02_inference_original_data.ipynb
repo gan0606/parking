{
 "cells": [
  {
   "cell_type": "code",
   "execution_count": 7,
   "metadata": {},
   "outputs": [],
   "source": [
    "import torch\n",
    "from ultralytics import YOLO\n",
    "# import cv2\n",
    "import onnx\n",
    "# from IPython.display import Image\n",
    "from PIL import Image"
   ]
  },
  {
   "cell_type": "code",
   "execution_count": 2,
   "metadata": {},
   "outputs": [],
   "source": [
    "# モデルの読み込み\n",
    "model = onnx.load(\"runs/detect/train/weights/best.onnx\")"
   ]
  },
  {
   "cell_type": "code",
   "execution_count": 8,
   "metadata": {},
   "outputs": [],
   "source": [
    "img_path = \"original_image/01.jpg\"\n",
    "img_1 = Image.open(img_path)"
   ]
  },
  {
   "cell_type": "code",
   "execution_count": 11,
   "metadata": {},
   "outputs": [],
   "source": [
    "size = 640\n",
    "img_1_r = img_1.resize((size, size))\n",
    "img_1_r.save(\"original_image/01_r.jpg\")"
   ]
  },
  {
   "cell_type": "code",
   "execution_count": 13,
   "metadata": {},
   "outputs": [
    {
     "name": "stdout",
     "output_type": "stream",
     "text": [
      "Ultralytics YOLOv8.2.2 🚀 Python-3.10.14 torch-2.2.2+cu118 CUDA:0 (NVIDIA GeForce RTX 4060 Laptop GPU, 8188MiB)\n",
      "Model summary (fused): 268 layers, 68125494 parameters, 0 gradients, 257.4 GFLOPs\n",
      "\n",
      "image 1/1 C:\\Users\\yuuki\\Kaggle\\object_detection_try\\parking\\original_image\\01.jpg: 480x640 (no detections), 93.3ms\n",
      "Speed: 2.6ms preprocess, 93.3ms inference, 1433.4ms postprocess per image at shape (1, 3, 480, 640)\n",
      "Results saved to \u001b[1mruns\\detect\\predict\u001b[0m\n",
      "💡 Learn more at https://docs.ultralytics.com/modes/predict\n"
     ]
    }
   ],
   "source": [
    "!yolo detect predict model=C:/Users/yuuki/Kaggle/object_detection_try/parking/runs/detect/train/weights/best.pt source=\"C:/Users/yuuki/Kaggle/object_detection_try/parking/original_image/01.jpg\" imgsz=640 save=True"
   ]
  },
  {
   "cell_type": "code",
   "execution_count": 14,
   "metadata": {},
   "outputs": [
    {
     "name": "stdout",
     "output_type": "stream",
     "text": [
      "Ultralytics YOLOv8.2.2 🚀 Python-3.10.14 torch-2.2.2+cu118 CUDA:0 (NVIDIA GeForce RTX 4060 Laptop GPU, 8188MiB)\n",
      "Model summary (fused): 268 layers, 68125494 parameters, 0 gradients, 257.4 GFLOPs\n",
      "\n",
      "image 1/1 C:\\Users\\yuuki\\Kaggle\\object_detection_try\\parking\\original_image\\01_r.jpg: 640x640 (no detections), 34.0ms\n",
      "Speed: 2.0ms preprocess, 34.0ms inference, 1353.4ms postprocess per image at shape (1, 3, 640, 640)\n",
      "Results saved to \u001b[1mruns\\detect\\predict2\u001b[0m\n",
      "💡 Learn more at https://docs.ultralytics.com/modes/predict\n"
     ]
    }
   ],
   "source": [
    "!yolo detect predict model=C:/Users/yuuki/Kaggle/object_detection_try/parking/runs/detect/train/weights/best.pt source=\"C:/Users/yuuki/Kaggle/object_detection_try/parking/original_image/01_r.jpg\" imgsz=640 save=True"
   ]
  },
  {
   "cell_type": "code",
   "execution_count": 15,
   "metadata": {},
   "outputs": [
    {
     "name": "stdout",
     "output_type": "stream",
     "text": [
      "Ultralytics YOLOv8.2.2 🚀 Python-3.10.14 torch-2.2.2+cu118 CUDA:0 (NVIDIA GeForce RTX 4060 Laptop GPU, 8188MiB)\n",
      "Model summary (fused): 268 layers, 68125494 parameters, 0 gradients, 257.4 GFLOPs\n",
      "\n",
      "image 1/4 C:\\Users\\yuuki\\Kaggle\\object_detection_try\\parking\\original_image\\01.jpg: 480x640 (no detections), 83.1ms\n",
      "image 2/4 C:\\Users\\yuuki\\Kaggle\\object_detection_try\\parking\\original_image\\01_r.jpg: 640x640 (no detections), 35.0ms\n",
      "image 3/4 C:\\Users\\yuuki\\Kaggle\\object_detection_try\\parking\\original_image\\02.jpg: 448x640 (no detections), 89.4ms\n",
      "image 4/4 C:\\Users\\yuuki\\Kaggle\\object_detection_try\\parking\\original_image\\03.jpg: 416x640 (no detections), 84.7ms\n",
      "Speed: 1.5ms preprocess, 73.1ms inference, 334.5ms postprocess per image at shape (1, 3, 416, 640)\n",
      "Results saved to \u001b[1mruns\\detect\\predict3\u001b[0m\n",
      "💡 Learn more at https://docs.ultralytics.com/modes/predict\n"
     ]
    }
   ],
   "source": [
    "!yolo detect predict model=C:/Users/yuuki/Kaggle/object_detection_try/parking/runs/detect/train/weights/best.pt source=\"C:/Users/yuuki/Kaggle/object_detection_try/parking/original_image/*.jpg\" imgsz=640 save=True"
   ]
  },
  {
   "cell_type": "markdown",
   "metadata": {},
   "source": [
    "## 独自データの推論はうまくいかない"
   ]
  },
  {
   "cell_type": "code",
   "execution_count": null,
   "metadata": {},
   "outputs": [],
   "source": []
  },
  {
   "cell_type": "code",
   "execution_count": null,
   "metadata": {},
   "outputs": [],
   "source": []
  }
 ],
 "metadata": {
  "kernelspec": {
   "display_name": "py_310_ultradynatics",
   "language": "python",
   "name": "python3"
  },
  "language_info": {
   "codemirror_mode": {
    "name": "ipython",
    "version": 3
   },
   "file_extension": ".py",
   "mimetype": "text/x-python",
   "name": "python",
   "nbconvert_exporter": "python",
   "pygments_lexer": "ipython3",
   "version": "3.10.14"
  }
 },
 "nbformat": 4,
 "nbformat_minor": 2
}
